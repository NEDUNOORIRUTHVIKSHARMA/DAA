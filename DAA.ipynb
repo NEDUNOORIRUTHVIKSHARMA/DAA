{
  "nbformat": 4,
  "nbformat_minor": 0,
  "metadata": {
    "colab": {
      "provenance": [],
      "toc_visible": true,
      "authorship_tag": "ABX9TyPMZl9OnJ794PO3T7Lba6OK",
      "include_colab_link": true
    },
    "kernelspec": {
      "name": "python3",
      "display_name": "Python 3"
    },
    "language_info": {
      "name": "python"
    }
  },
  "cells": [
    {
      "cell_type": "markdown",
      "metadata": {
        "id": "view-in-github",
        "colab_type": "text"
      },
      "source": [
        "<a href=\"https://colab.research.google.com/github/NEDUNOORIRUTHVIKSHARMA/DAA/blob/main/DAA.ipynb\" target=\"_parent\"><img src=\"https://colab.research.google.com/assets/colab-badge.svg\" alt=\"Open In Colab\"/></a>"
      ]
    },
    {
      "cell_type": "code",
      "source": [
        "import java.util.HashMap;\n",
        "import java.util.Map;\n",
        "import java.util.Scanner;\n",
        "\n",
        "public class DynamicFertilizerRecommendation {\n",
        "\n",
        "    // Sample data for soil health, crop type, and weather patterns\n",
        "    private static final Map<String, String> soilHealthRecommendations = new HashMap<>();\n",
        "    private static final Map<String, String> cropTypeRecommendations = new HashMap<>();\n",
        "    private static final Map<String, String> weatherPatternRecommendations = new HashMap<>();\n",
        "\n",
        "    static {\n",
        "\n",
        "        soilHealthRecommendations.put(\"poor\", \"Use organic compost and nitrogen-rich fertilizers.\");\n",
        "        soilHealthRecommendations.put(\"average\", \"Use balanced NPK fertilizers.\");\n",
        "        soilHealthRecommendations.put(\"good\", \"Minimal fertilizer needed; consider slow-release options.\");\n",
        "\n",
        "\n",
        "        cropTypeRecommendations.put(\"corn\", \"Recommended: 100 kg/ha of NPK 10-20-20.\");\n",
        "        cropTypeRecommendations.put(\"wheat\", \"Recommended: 80 kg/ha of NPK 15-15-15.\");\n",
        "        cropTypeRecommendations.put(\"rice\", \"Recommended: 120 kg/ha of NPK 20-10-10.\");\n",
        "        cropTypeRecommendations.put(\"soybean\", \"Recommended: 60 kg/ha of NPK 10-20-10.\");\n",
        "\n",
        "\n",
        "        weatherPatternRecommendations.put(\"dry\", \"Increase irrigation and use water-soluble fertilizers.\");\n",
        "        weatherPatternRecommendations.put(\"wet\", \"Reduce fertilizer application to prevent leaching.\");\n",
        "        weatherPatternRecommendations.put(\"moderate\", \"Standard application is recommended.\");\n",
        "    }\n",
        "\n",
        "    public static void main(String[] args) {\n",
        "        Scanner scanner = new Scanner(System.in);\n",
        "        boolean continueInput = true;\n",
        "\n",
        "        while (continueInput) {\n",
        "\n",
        "            System.out.print(\"Enter soil health (poor, average, good): \");\n",
        "            String soilHealth = scanner.nextLine().toLowerCase();\n",
        "\n",
        "            System.out.print(\"Enter crop type (corn, wheat, rice, soybean): \");\n",
        "            String cropType = scanner.nextLine().toLowerCase();\n",
        "\n",
        "            System.out.print(\"Enter weather pattern (dry, wet, moderate): \");\n",
        "            String weatherPattern = scanner.nextLine().toLowerCase();\n",
        "\n",
        "\n",
        "            String soilRecommendation = soilHealthRecommendations.getOrDefault(soilHealth, \"No recommendation available.\");\n",
        "            String cropRecommendation = cropTypeRecommendations.getOrDefault(cropType, \"No recommendation available.\");\n",
        "            String weatherRecommendation = weatherPatternRecommendations.getOrDefault(weatherPattern, \"No recommendation available.\");\n",
        "\n",
        "\n",
        "            System.out.println(\"\\nFertilizer Recommendations:\");\n",
        "            System.out.println(\"Soil Health Recommendation: \" + soilRecommendation);\n",
        "            System.out.println(\"Crop Type Recommendation: \" + cropRecommendation);\n",
        "            System.out.println(\"Weather Pattern Recommendation: \" + weatherRecommendation);\n",
        "\n",
        "\n",
        "            System.out.print(\"\\nDo you want to enter another set of data? (yes/no): \");\n",
        "            String userResponse = scanner.nextLine().toLowerCase();\n",
        "            if (!userResponse.equals(\"yes\")) {\n",
        "                continueInput = false;\n",
        "            }\n",
        "        }\n",
        "\n",
        "        System.out.println(\"Thank you for using the Fertilizer Recommendation System!\");\n",
        "        scanner.close();\n",
        "    }\n",
        "}\n"
      ],
      "metadata": {
        "id": "gWMA1EAnZOt-"
      },
      "execution_count": null,
      "outputs": []
    }
  ]
}