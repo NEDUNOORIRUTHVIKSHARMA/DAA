{
  "nbformat": 4,
  "nbformat_minor": 0,
  "metadata": {
    "colab": {
      "provenance": [],
      "toc_visible": true,
      "authorship_tag": "ABX9TyPQ5rKPieW54J3xDHNLWJKy",
      "include_colab_link": true
    },
    "kernelspec": {
      "name": "python3",
      "display_name": "Python 3"
    },
    "language_info": {
      "name": "python"
    }
  },
  "cells": [
    {
      "cell_type": "markdown",
      "metadata": {
        "id": "view-in-github",
        "colab_type": "text"
      },
      "source": [
        "<a href=\"https://colab.research.google.com/github/NEDUNOORIRUTHVIKSHARMA/DAA/blob/main/TEAM_DETAILS.ipynb\" target=\"_parent\"><img src=\"https://colab.research.google.com/assets/colab-badge.svg\" alt=\"Open In Colab\"/></a>"
      ]
    },
    {
      "cell_type": "code",
      "source": [
        "TEAM :T026\n",
        "N. RUTHVIK SHARMA 2303A51211"
      ],
      "metadata": {
        "id": "CB0UXN-vZ79Y"
      },
      "execution_count": null,
      "outputs": []
    }
  ]
}